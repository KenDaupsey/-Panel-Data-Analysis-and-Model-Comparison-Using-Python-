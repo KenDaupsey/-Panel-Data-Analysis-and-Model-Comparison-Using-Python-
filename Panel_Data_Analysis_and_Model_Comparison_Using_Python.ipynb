{
  "nbformat": 4,
  "nbformat_minor": 0,
  "metadata": {
    "colab": {
      "provenance": [],
      "authorship_tag": "ABX9TyOPEWX/8E7FtgzU8ZokgARF",
      "include_colab_link": true
    },
    "kernelspec": {
      "name": "python3",
      "display_name": "Python 3"
    },
    "language_info": {
      "name": "python"
    }
  },
  "cells": [
    {
      "cell_type": "markdown",
      "metadata": {
        "id": "view-in-github",
        "colab_type": "text"
      },
      "source": [
        "<a href=\"https://colab.research.google.com/github/KenDaupsey/-Panel-Data-Analysis-and-Model-Comparison-Using-Python-/blob/main/Panel_Data_Analysis_and_Model_Comparison_Using_Python.ipynb\" target=\"_parent\"><img src=\"https://colab.research.google.com/assets/colab-badge.svg\" alt=\"Open In Colab\"/></a>"
      ]
    },
    {
      "cell_type": "markdown",
      "source": [
        "# *** Panel Data Analysis and Model Comparison Using Python ***"
      ],
      "metadata": {
        "id": "bA5TAfgxs9ww"
      }
    },
    {
      "cell_type": "code",
      "source": [
        "### Import Necessary Libraries\n",
        "import pandas as pd\n",
        "import numpy as np\n",
        "import statsmodels.api as sm\n",
        "import matplotlib.pyplot as plt"
      ],
      "metadata": {
        "id": "7Qo9z4PCtmX6"
      },
      "execution_count": 1,
      "outputs": []
    },
    {
      "cell_type": "code",
      "source": [
        "### Load dataset and examine first 5 rows\n",
        "url= (\"https://raw.githubusercontent.com/KenDaupsey/-Panel-Data-Analysis-and-Model-Comparison-Using-Python-/main/PanelDataWages1.csv\")\n",
        "df= pd.read_csv(url)\n",
        "df.head()"
      ],
      "metadata": {
        "colab": {
          "base_uri": "https://localhost:8080/",
          "height": 235
        },
        "id": "CRoy_fA7s_wg",
        "outputId": "f7bde42e-28bc-4107-97c8-d06fb7a4c671"
      },
      "execution_count": 14,
      "outputs": [
        {
          "output_type": "execute_result",
          "data": {
            "text/plain": [
              "   exp  wks  occ  ind  south  smsa  ms  fem  union  ed  ...  id  t  tdum1  \\\n",
              "0    3   32    0    0      1     0   1    0      0   9  ...   1  1      1   \n",
              "1    4   43    0    0      1     0   1    0      0   9  ...   1  2      0   \n",
              "2    5   40    0    0      1     0   1    0      0   9  ...   1  3      0   \n",
              "3    6   39    0    0      1     0   1    0      0   9  ...   1  4      0   \n",
              "4    7   42    0    1      1     0   1    0      0   9  ...   1  5      0   \n",
              "\n",
              "   tdum2  tdum3  tdum4  tdum5  tdum6  tdum7  exp2  \n",
              "0      0      0      0      0      0      0     9  \n",
              "1      1      0      0      0      0      0    16  \n",
              "2      0      1      0      0      0      0    25  \n",
              "3      0      0      1      0      0      0    36  \n",
              "4      0      0      0      1      0      0    49  \n",
              "\n",
              "[5 rows x 22 columns]"
            ],
            "text/html": [
              "\n",
              "  <div id=\"df-a0962191-989a-47a2-a750-e97c932bf5c7\" class=\"colab-df-container\">\n",
              "    <div>\n",
              "<style scoped>\n",
              "    .dataframe tbody tr th:only-of-type {\n",
              "        vertical-align: middle;\n",
              "    }\n",
              "\n",
              "    .dataframe tbody tr th {\n",
              "        vertical-align: top;\n",
              "    }\n",
              "\n",
              "    .dataframe thead th {\n",
              "        text-align: right;\n",
              "    }\n",
              "</style>\n",
              "<table border=\"1\" class=\"dataframe\">\n",
              "  <thead>\n",
              "    <tr style=\"text-align: right;\">\n",
              "      <th></th>\n",
              "      <th>exp</th>\n",
              "      <th>wks</th>\n",
              "      <th>occ</th>\n",
              "      <th>ind</th>\n",
              "      <th>south</th>\n",
              "      <th>smsa</th>\n",
              "      <th>ms</th>\n",
              "      <th>fem</th>\n",
              "      <th>union</th>\n",
              "      <th>ed</th>\n",
              "      <th>...</th>\n",
              "      <th>id</th>\n",
              "      <th>t</th>\n",
              "      <th>tdum1</th>\n",
              "      <th>tdum2</th>\n",
              "      <th>tdum3</th>\n",
              "      <th>tdum4</th>\n",
              "      <th>tdum5</th>\n",
              "      <th>tdum6</th>\n",
              "      <th>tdum7</th>\n",
              "      <th>exp2</th>\n",
              "    </tr>\n",
              "  </thead>\n",
              "  <tbody>\n",
              "    <tr>\n",
              "      <th>0</th>\n",
              "      <td>3</td>\n",
              "      <td>32</td>\n",
              "      <td>0</td>\n",
              "      <td>0</td>\n",
              "      <td>1</td>\n",
              "      <td>0</td>\n",
              "      <td>1</td>\n",
              "      <td>0</td>\n",
              "      <td>0</td>\n",
              "      <td>9</td>\n",
              "      <td>...</td>\n",
              "      <td>1</td>\n",
              "      <td>1</td>\n",
              "      <td>1</td>\n",
              "      <td>0</td>\n",
              "      <td>0</td>\n",
              "      <td>0</td>\n",
              "      <td>0</td>\n",
              "      <td>0</td>\n",
              "      <td>0</td>\n",
              "      <td>9</td>\n",
              "    </tr>\n",
              "    <tr>\n",
              "      <th>1</th>\n",
              "      <td>4</td>\n",
              "      <td>43</td>\n",
              "      <td>0</td>\n",
              "      <td>0</td>\n",
              "      <td>1</td>\n",
              "      <td>0</td>\n",
              "      <td>1</td>\n",
              "      <td>0</td>\n",
              "      <td>0</td>\n",
              "      <td>9</td>\n",
              "      <td>...</td>\n",
              "      <td>1</td>\n",
              "      <td>2</td>\n",
              "      <td>0</td>\n",
              "      <td>1</td>\n",
              "      <td>0</td>\n",
              "      <td>0</td>\n",
              "      <td>0</td>\n",
              "      <td>0</td>\n",
              "      <td>0</td>\n",
              "      <td>16</td>\n",
              "    </tr>\n",
              "    <tr>\n",
              "      <th>2</th>\n",
              "      <td>5</td>\n",
              "      <td>40</td>\n",
              "      <td>0</td>\n",
              "      <td>0</td>\n",
              "      <td>1</td>\n",
              "      <td>0</td>\n",
              "      <td>1</td>\n",
              "      <td>0</td>\n",
              "      <td>0</td>\n",
              "      <td>9</td>\n",
              "      <td>...</td>\n",
              "      <td>1</td>\n",
              "      <td>3</td>\n",
              "      <td>0</td>\n",
              "      <td>0</td>\n",
              "      <td>1</td>\n",
              "      <td>0</td>\n",
              "      <td>0</td>\n",
              "      <td>0</td>\n",
              "      <td>0</td>\n",
              "      <td>25</td>\n",
              "    </tr>\n",
              "    <tr>\n",
              "      <th>3</th>\n",
              "      <td>6</td>\n",
              "      <td>39</td>\n",
              "      <td>0</td>\n",
              "      <td>0</td>\n",
              "      <td>1</td>\n",
              "      <td>0</td>\n",
              "      <td>1</td>\n",
              "      <td>0</td>\n",
              "      <td>0</td>\n",
              "      <td>9</td>\n",
              "      <td>...</td>\n",
              "      <td>1</td>\n",
              "      <td>4</td>\n",
              "      <td>0</td>\n",
              "      <td>0</td>\n",
              "      <td>0</td>\n",
              "      <td>1</td>\n",
              "      <td>0</td>\n",
              "      <td>0</td>\n",
              "      <td>0</td>\n",
              "      <td>36</td>\n",
              "    </tr>\n",
              "    <tr>\n",
              "      <th>4</th>\n",
              "      <td>7</td>\n",
              "      <td>42</td>\n",
              "      <td>0</td>\n",
              "      <td>1</td>\n",
              "      <td>1</td>\n",
              "      <td>0</td>\n",
              "      <td>1</td>\n",
              "      <td>0</td>\n",
              "      <td>0</td>\n",
              "      <td>9</td>\n",
              "      <td>...</td>\n",
              "      <td>1</td>\n",
              "      <td>5</td>\n",
              "      <td>0</td>\n",
              "      <td>0</td>\n",
              "      <td>0</td>\n",
              "      <td>0</td>\n",
              "      <td>1</td>\n",
              "      <td>0</td>\n",
              "      <td>0</td>\n",
              "      <td>49</td>\n",
              "    </tr>\n",
              "  </tbody>\n",
              "</table>\n",
              "<p>5 rows × 22 columns</p>\n",
              "</div>\n",
              "    <div class=\"colab-df-buttons\">\n",
              "\n",
              "  <div class=\"colab-df-container\">\n",
              "    <button class=\"colab-df-convert\" onclick=\"convertToInteractive('df-a0962191-989a-47a2-a750-e97c932bf5c7')\"\n",
              "            title=\"Convert this dataframe to an interactive table.\"\n",
              "            style=\"display:none;\">\n",
              "\n",
              "  <svg xmlns=\"http://www.w3.org/2000/svg\" height=\"24px\" viewBox=\"0 -960 960 960\">\n",
              "    <path d=\"M120-120v-720h720v720H120Zm60-500h600v-160H180v160Zm220 220h160v-160H400v160Zm0 220h160v-160H400v160ZM180-400h160v-160H180v160Zm440 0h160v-160H620v160ZM180-180h160v-160H180v160Zm440 0h160v-160H620v160Z\"/>\n",
              "  </svg>\n",
              "    </button>\n",
              "\n",
              "  <style>\n",
              "    .colab-df-container {\n",
              "      display:flex;\n",
              "      gap: 12px;\n",
              "    }\n",
              "\n",
              "    .colab-df-convert {\n",
              "      background-color: #E8F0FE;\n",
              "      border: none;\n",
              "      border-radius: 50%;\n",
              "      cursor: pointer;\n",
              "      display: none;\n",
              "      fill: #1967D2;\n",
              "      height: 32px;\n",
              "      padding: 0 0 0 0;\n",
              "      width: 32px;\n",
              "    }\n",
              "\n",
              "    .colab-df-convert:hover {\n",
              "      background-color: #E2EBFA;\n",
              "      box-shadow: 0px 1px 2px rgba(60, 64, 67, 0.3), 0px 1px 3px 1px rgba(60, 64, 67, 0.15);\n",
              "      fill: #174EA6;\n",
              "    }\n",
              "\n",
              "    .colab-df-buttons div {\n",
              "      margin-bottom: 4px;\n",
              "    }\n",
              "\n",
              "    [theme=dark] .colab-df-convert {\n",
              "      background-color: #3B4455;\n",
              "      fill: #D2E3FC;\n",
              "    }\n",
              "\n",
              "    [theme=dark] .colab-df-convert:hover {\n",
              "      background-color: #434B5C;\n",
              "      box-shadow: 0px 1px 3px 1px rgba(0, 0, 0, 0.15);\n",
              "      filter: drop-shadow(0px 1px 2px rgba(0, 0, 0, 0.3));\n",
              "      fill: #FFFFFF;\n",
              "    }\n",
              "  </style>\n",
              "\n",
              "    <script>\n",
              "      const buttonEl =\n",
              "        document.querySelector('#df-a0962191-989a-47a2-a750-e97c932bf5c7 button.colab-df-convert');\n",
              "      buttonEl.style.display =\n",
              "        google.colab.kernel.accessAllowed ? 'block' : 'none';\n",
              "\n",
              "      async function convertToInteractive(key) {\n",
              "        const element = document.querySelector('#df-a0962191-989a-47a2-a750-e97c932bf5c7');\n",
              "        const dataTable =\n",
              "          await google.colab.kernel.invokeFunction('convertToInteractive',\n",
              "                                                    [key], {});\n",
              "        if (!dataTable) return;\n",
              "\n",
              "        const docLinkHtml = 'Like what you see? Visit the ' +\n",
              "          '<a target=\"_blank\" href=https://colab.research.google.com/notebooks/data_table.ipynb>data table notebook</a>'\n",
              "          + ' to learn more about interactive tables.';\n",
              "        element.innerHTML = '';\n",
              "        dataTable['output_type'] = 'display_data';\n",
              "        await google.colab.output.renderOutput(dataTable, element);\n",
              "        const docLink = document.createElement('div');\n",
              "        docLink.innerHTML = docLinkHtml;\n",
              "        element.appendChild(docLink);\n",
              "      }\n",
              "    </script>\n",
              "  </div>\n",
              "\n",
              "\n",
              "<div id=\"df-b7d32b01-f3a5-4b98-9768-57bbde77686d\">\n",
              "  <button class=\"colab-df-quickchart\" onclick=\"quickchart('df-b7d32b01-f3a5-4b98-9768-57bbde77686d')\"\n",
              "            title=\"Suggest charts\"\n",
              "            style=\"display:none;\">\n",
              "\n",
              "<svg xmlns=\"http://www.w3.org/2000/svg\" height=\"24px\"viewBox=\"0 0 24 24\"\n",
              "     width=\"24px\">\n",
              "    <g>\n",
              "        <path d=\"M19 3H5c-1.1 0-2 .9-2 2v14c0 1.1.9 2 2 2h14c1.1 0 2-.9 2-2V5c0-1.1-.9-2-2-2zM9 17H7v-7h2v7zm4 0h-2V7h2v10zm4 0h-2v-4h2v4z\"/>\n",
              "    </g>\n",
              "</svg>\n",
              "  </button>\n",
              "\n",
              "<style>\n",
              "  .colab-df-quickchart {\n",
              "      --bg-color: #E8F0FE;\n",
              "      --fill-color: #1967D2;\n",
              "      --hover-bg-color: #E2EBFA;\n",
              "      --hover-fill-color: #174EA6;\n",
              "      --disabled-fill-color: #AAA;\n",
              "      --disabled-bg-color: #DDD;\n",
              "  }\n",
              "\n",
              "  [theme=dark] .colab-df-quickchart {\n",
              "      --bg-color: #3B4455;\n",
              "      --fill-color: #D2E3FC;\n",
              "      --hover-bg-color: #434B5C;\n",
              "      --hover-fill-color: #FFFFFF;\n",
              "      --disabled-bg-color: #3B4455;\n",
              "      --disabled-fill-color: #666;\n",
              "  }\n",
              "\n",
              "  .colab-df-quickchart {\n",
              "    background-color: var(--bg-color);\n",
              "    border: none;\n",
              "    border-radius: 50%;\n",
              "    cursor: pointer;\n",
              "    display: none;\n",
              "    fill: var(--fill-color);\n",
              "    height: 32px;\n",
              "    padding: 0;\n",
              "    width: 32px;\n",
              "  }\n",
              "\n",
              "  .colab-df-quickchart:hover {\n",
              "    background-color: var(--hover-bg-color);\n",
              "    box-shadow: 0 1px 2px rgba(60, 64, 67, 0.3), 0 1px 3px 1px rgba(60, 64, 67, 0.15);\n",
              "    fill: var(--button-hover-fill-color);\n",
              "  }\n",
              "\n",
              "  .colab-df-quickchart-complete:disabled,\n",
              "  .colab-df-quickchart-complete:disabled:hover {\n",
              "    background-color: var(--disabled-bg-color);\n",
              "    fill: var(--disabled-fill-color);\n",
              "    box-shadow: none;\n",
              "  }\n",
              "\n",
              "  .colab-df-spinner {\n",
              "    border: 2px solid var(--fill-color);\n",
              "    border-color: transparent;\n",
              "    border-bottom-color: var(--fill-color);\n",
              "    animation:\n",
              "      spin 1s steps(1) infinite;\n",
              "  }\n",
              "\n",
              "  @keyframes spin {\n",
              "    0% {\n",
              "      border-color: transparent;\n",
              "      border-bottom-color: var(--fill-color);\n",
              "      border-left-color: var(--fill-color);\n",
              "    }\n",
              "    20% {\n",
              "      border-color: transparent;\n",
              "      border-left-color: var(--fill-color);\n",
              "      border-top-color: var(--fill-color);\n",
              "    }\n",
              "    30% {\n",
              "      border-color: transparent;\n",
              "      border-left-color: var(--fill-color);\n",
              "      border-top-color: var(--fill-color);\n",
              "      border-right-color: var(--fill-color);\n",
              "    }\n",
              "    40% {\n",
              "      border-color: transparent;\n",
              "      border-right-color: var(--fill-color);\n",
              "      border-top-color: var(--fill-color);\n",
              "    }\n",
              "    60% {\n",
              "      border-color: transparent;\n",
              "      border-right-color: var(--fill-color);\n",
              "    }\n",
              "    80% {\n",
              "      border-color: transparent;\n",
              "      border-right-color: var(--fill-color);\n",
              "      border-bottom-color: var(--fill-color);\n",
              "    }\n",
              "    90% {\n",
              "      border-color: transparent;\n",
              "      border-bottom-color: var(--fill-color);\n",
              "    }\n",
              "  }\n",
              "</style>\n",
              "\n",
              "  <script>\n",
              "    async function quickchart(key) {\n",
              "      const quickchartButtonEl =\n",
              "        document.querySelector('#' + key + ' button');\n",
              "      quickchartButtonEl.disabled = true;  // To prevent multiple clicks.\n",
              "      quickchartButtonEl.classList.add('colab-df-spinner');\n",
              "      try {\n",
              "        const charts = await google.colab.kernel.invokeFunction(\n",
              "            'suggestCharts', [key], {});\n",
              "      } catch (error) {\n",
              "        console.error('Error during call to suggestCharts:', error);\n",
              "      }\n",
              "      quickchartButtonEl.classList.remove('colab-df-spinner');\n",
              "      quickchartButtonEl.classList.add('colab-df-quickchart-complete');\n",
              "    }\n",
              "    (() => {\n",
              "      let quickchartButtonEl =\n",
              "        document.querySelector('#df-b7d32b01-f3a5-4b98-9768-57bbde77686d button');\n",
              "      quickchartButtonEl.style.display =\n",
              "        google.colab.kernel.accessAllowed ? 'block' : 'none';\n",
              "    })();\n",
              "  </script>\n",
              "</div>\n",
              "\n",
              "    </div>\n",
              "  </div>\n"
            ],
            "application/vnd.google.colaboratory.intrinsic+json": {
              "type": "dataframe",
              "variable_name": "df"
            }
          },
          "metadata": {},
          "execution_count": 14
        }
      ]
    },
    {
      "cell_type": "code",
      "source": [
        "df.columns"
      ],
      "metadata": {
        "colab": {
          "base_uri": "https://localhost:8080/"
        },
        "id": "vBEGmXMPtMbD",
        "outputId": "2fcbfffc-ba81-4a17-d29c-46dd623d2aee"
      },
      "execution_count": 5,
      "outputs": [
        {
          "output_type": "execute_result",
          "data": {
            "text/plain": [
              "Index(['exp', 'wks', 'occ', 'ind', 'south', 'smsa', 'ms', 'fem', 'union', 'ed',\n",
              "       'blk', 'lwage', 'id', 't', 'tdum1', 'tdum2', 'tdum3', 'tdum4', 'tdum5',\n",
              "       'tdum6', 'tdum7', 'exp2'],\n",
              "      dtype='object')"
            ]
          },
          "metadata": {},
          "execution_count": 5
        }
      ]
    },
    {
      "cell_type": "code",
      "source": [
        "df.info()"
      ],
      "metadata": {
        "colab": {
          "base_uri": "https://localhost:8080/"
        },
        "id": "gpyCTfsJtMW4",
        "outputId": "f6df52de-989c-4d52-e3e4-77ed78c3cc13"
      },
      "execution_count": 6,
      "outputs": [
        {
          "output_type": "stream",
          "name": "stdout",
          "text": [
            "<class 'pandas.core.frame.DataFrame'>\n",
            "RangeIndex: 4165 entries, 0 to 4164\n",
            "Data columns (total 22 columns):\n",
            " #   Column  Non-Null Count  Dtype  \n",
            "---  ------  --------------  -----  \n",
            " 0   exp     4165 non-null   int64  \n",
            " 1   wks     4165 non-null   int64  \n",
            " 2   occ     4165 non-null   int64  \n",
            " 3   ind     4165 non-null   int64  \n",
            " 4   south   4165 non-null   int64  \n",
            " 5   smsa    4165 non-null   int64  \n",
            " 6   ms      4165 non-null   int64  \n",
            " 7   fem     4165 non-null   int64  \n",
            " 8   union   4165 non-null   int64  \n",
            " 9   ed      4165 non-null   int64  \n",
            " 10  blk     4165 non-null   int64  \n",
            " 11  lwage   4165 non-null   float64\n",
            " 12  id      4165 non-null   int64  \n",
            " 13  t       4165 non-null   int64  \n",
            " 14  tdum1   4165 non-null   int64  \n",
            " 15  tdum2   4165 non-null   int64  \n",
            " 16  tdum3   4165 non-null   int64  \n",
            " 17  tdum4   4165 non-null   int64  \n",
            " 18  tdum5   4165 non-null   int64  \n",
            " 19  tdum6   4165 non-null   int64  \n",
            " 20  tdum7   4165 non-null   int64  \n",
            " 21  exp2    4165 non-null   int64  \n",
            "dtypes: float64(1), int64(21)\n",
            "memory usage: 716.0 KB\n"
          ]
        }
      ]
    },
    {
      "cell_type": "code",
      "source": [
        "# View summary statistics\n",
        "print(df.describe())"
      ],
      "metadata": {
        "colab": {
          "base_uri": "https://localhost:8080/"
        },
        "id": "p3jEb_9BtMTb",
        "outputId": "d875c512-9209-4983-fe36-bbbeb18f0ee9"
      },
      "execution_count": 7,
      "outputs": [
        {
          "output_type": "stream",
          "name": "stdout",
          "text": [
            "               exp          wks          occ          ind        south  \\\n",
            "count  4165.000000  4165.000000  4165.000000  4165.000000  4165.000000   \n",
            "mean     19.853782    46.811525     0.511164     0.395438     0.290276   \n",
            "std      10.966370     5.129098     0.499935     0.489003     0.453944   \n",
            "min       1.000000     5.000000     0.000000     0.000000     0.000000   \n",
            "25%      11.000000    46.000000     0.000000     0.000000     0.000000   \n",
            "50%      18.000000    48.000000     1.000000     0.000000     0.000000   \n",
            "75%      29.000000    50.000000     1.000000     1.000000     1.000000   \n",
            "max      51.000000    52.000000     1.000000     1.000000     1.000000   \n",
            "\n",
            "              smsa           ms          fem        union           ed  ...  \\\n",
            "count  4165.000000  4165.000000  4165.000000  4165.000000  4165.000000  ...   \n",
            "mean      0.653782     0.814406     0.112605     0.363986    12.845378  ...   \n",
            "std       0.475821     0.388826     0.316147     0.481202     2.787995  ...   \n",
            "min       0.000000     0.000000     0.000000     0.000000     4.000000  ...   \n",
            "25%       0.000000     1.000000     0.000000     0.000000    12.000000  ...   \n",
            "50%       1.000000     1.000000     0.000000     0.000000    12.000000  ...   \n",
            "75%       1.000000     1.000000     0.000000     1.000000    16.000000  ...   \n",
            "max       1.000000     1.000000     1.000000     1.000000    17.000000  ...   \n",
            "\n",
            "                id           t        tdum1        tdum2        tdum3  \\\n",
            "count  4165.000000  4165.00000  4165.000000  4165.000000  4165.000000   \n",
            "mean    298.000000     4.00000     0.142857     0.142857     0.142857   \n",
            "std     171.782086     2.00024     0.349969     0.349969     0.349969   \n",
            "min       1.000000     1.00000     0.000000     0.000000     0.000000   \n",
            "25%     149.000000     2.00000     0.000000     0.000000     0.000000   \n",
            "50%     298.000000     4.00000     0.000000     0.000000     0.000000   \n",
            "75%     447.000000     6.00000     0.000000     0.000000     0.000000   \n",
            "max     595.000000     7.00000     1.000000     1.000000     1.000000   \n",
            "\n",
            "             tdum4        tdum5        tdum6        tdum7         exp2  \n",
            "count  4165.000000  4165.000000  4165.000000  4165.000000  4165.000000  \n",
            "mean      0.142857     0.142857     0.142857     0.142857   514.405042  \n",
            "std       0.349969     0.349969     0.349969     0.349969   496.996221  \n",
            "min       0.000000     0.000000     0.000000     0.000000     1.000000  \n",
            "25%       0.000000     0.000000     0.000000     0.000000   121.000000  \n",
            "50%       0.000000     0.000000     0.000000     0.000000   324.000000  \n",
            "75%       0.000000     0.000000     0.000000     0.000000   841.000000  \n",
            "max       1.000000     1.000000     1.000000     1.000000  2601.000000  \n",
            "\n",
            "[8 rows x 22 columns]\n"
          ]
        }
      ]
    },
    {
      "cell_type": "code",
      "source": [
        "# Create pooled OLS model\n",
        "pooled_model = sm.OLS(endog=df['exp'], exog=df[['wks', 'occ', 'south', 'smsa', 'ms', 'fem', 'union', 'ed']])\n",
        "pooled_results = pooled_model.fit()\n",
        "print(pooled_results.summary())"
      ],
      "metadata": {
        "colab": {
          "base_uri": "https://localhost:8080/"
        },
        "id": "12gK2iJStMQO",
        "outputId": "7205c4b3-3e22-4ca6-ea6a-9dae1a11a7d1"
      },
      "execution_count": 8,
      "outputs": [
        {
          "output_type": "stream",
          "name": "stdout",
          "text": [
            "                                 OLS Regression Results                                \n",
            "=======================================================================================\n",
            "Dep. Variable:                    exp   R-squared (uncentered):                   0.773\n",
            "Model:                            OLS   Adj. R-squared (uncentered):              0.773\n",
            "Method:                 Least Squares   F-statistic:                              1770.\n",
            "Date:                Mon, 11 Mar 2024   Prob (F-statistic):                        0.00\n",
            "Time:                        18:18:37   Log-Likelihood:                         -15822.\n",
            "No. Observations:                4165   AIC:                                  3.166e+04\n",
            "Df Residuals:                    4157   BIC:                                  3.171e+04\n",
            "Df Model:                           8                                                  \n",
            "Covariance Type:            nonrobust                                                  \n",
            "==============================================================================\n",
            "                 coef    std err          t      P>|t|      [0.025      0.975]\n",
            "------------------------------------------------------------------------------\n",
            "wks            0.3293      0.021     15.370      0.000       0.287       0.371\n",
            "occ            0.9373      0.422      2.223      0.026       0.111       1.764\n",
            "south         -0.8141      0.379     -2.149      0.032      -1.557      -0.071\n",
            "smsa           2.7567      0.368      7.500      0.000       2.036       3.477\n",
            "ms             8.5342      0.603     14.164      0.000       7.353       9.715\n",
            "fem            4.9424      0.738      6.696      0.000       3.495       6.389\n",
            "union          0.5886      0.387      1.522      0.128      -0.170       1.347\n",
            "ed            -0.4326      0.064     -6.772      0.000      -0.558      -0.307\n",
            "==============================================================================\n",
            "Omnibus:                      356.230   Durbin-Watson:                   0.342\n",
            "Prob(Omnibus):                  0.000   Jarque-Bera (JB):              188.420\n",
            "Skew:                           0.365   Prob(JB):                     1.22e-41\n",
            "Kurtosis:                       2.256   Cond. No.                         257.\n",
            "==============================================================================\n",
            "\n",
            "Notes:\n",
            "[1] R² is computed without centering (uncentered) since the model does not contain a constant.\n",
            "[2] Standard Errors assume that the covariance matrix of the errors is correctly specified.\n"
          ]
        }
      ]
    },
    {
      "cell_type": "code",
      "source": [
        "# Plot wage over time\n",
        "plt.figure()\n",
        "df.groupby(['id','t'])['exp'].mean().unstack().plot()\n",
        "plt.ylabel('Average Hourly Wage')"
      ],
      "metadata": {
        "colab": {
          "base_uri": "https://localhost:8080/",
          "height": 486
        },
        "id": "IPiuFowJt2q-",
        "outputId": "02d2da8c-4f1a-4e18-d544-e95f5b74da78"
      },
      "execution_count": 9,
      "outputs": [
        {
          "output_type": "execute_result",
          "data": {
            "text/plain": [
              "Text(0, 0.5, 'Average Hourly Wage')"
            ]
          },
          "metadata": {},
          "execution_count": 9
        },
        {
          "output_type": "display_data",
          "data": {
            "text/plain": [
              "<Figure size 640x480 with 0 Axes>"
            ]
          },
          "metadata": {}
        },
        {
          "output_type": "display_data",
          "data": {
            "text/plain": [
              "<Figure size 640x480 with 1 Axes>"
            ],
            "image/png": "[encoded data removed]"
          },
          "metadata": {}
        }
      ]
    },
    {
      "cell_type": "code",
      "source": [
        "# Fixed effects model controlling for entity (id)\n",
        "fe_model = sm.OLS(endog=df['exp'], exog=df[['wks', 'occ', 'south', 'smsa', 'ms', 'fem', 'union', 'ed']], entity=df['id'])\n",
        "fe_results = fe_model.fit()\n",
        "print(fe_results.summary())"
      ],
      "metadata": {
        "colab": {
          "base_uri": "https://localhost:8080/"
        },
        "id": "j6rAXgRDt63M",
        "outputId": "c8bb5d33-64da-4eff-a97f-4304a3de3943"
      },
      "execution_count": 10,
      "outputs": [
        {
          "output_type": "stream",
          "name": "stdout",
          "text": [
            "                                 OLS Regression Results                                \n",
            "=======================================================================================\n",
            "Dep. Variable:                    exp   R-squared (uncentered):                   0.773\n",
            "Model:                            OLS   Adj. R-squared (uncentered):              0.773\n",
            "Method:                 Least Squares   F-statistic:                              1770.\n",
            "Date:                Mon, 11 Mar 2024   Prob (F-statistic):                        0.00\n",
            "Time:                        18:18:41   Log-Likelihood:                         -15822.\n",
            "No. Observations:                4165   AIC:                                  3.166e+04\n",
            "Df Residuals:                    4157   BIC:                                  3.171e+04\n",
            "Df Model:                           8                                                  \n",
            "Covariance Type:            nonrobust                                                  \n",
            "==============================================================================\n",
            "                 coef    std err          t      P>|t|      [0.025      0.975]\n",
            "------------------------------------------------------------------------------\n",
            "wks            0.3293      0.021     15.370      0.000       0.287       0.371\n",
            "occ            0.9373      0.422      2.223      0.026       0.111       1.764\n",
            "south         -0.8141      0.379     -2.149      0.032      -1.557      -0.071\n",
            "smsa           2.7567      0.368      7.500      0.000       2.036       3.477\n",
            "ms             8.5342      0.603     14.164      0.000       7.353       9.715\n",
            "fem            4.9424      0.738      6.696      0.000       3.495       6.389\n",
            "union          0.5886      0.387      1.522      0.128      -0.170       1.347\n",
            "ed            -0.4326      0.064     -6.772      0.000      -0.558      -0.307\n",
            "==============================================================================\n",
            "Omnibus:                      356.230   Durbin-Watson:                   0.342\n",
            "Prob(Omnibus):                  0.000   Jarque-Bera (JB):              188.420\n",
            "Skew:                           0.365   Prob(JB):                     1.22e-41\n",
            "Kurtosis:                       2.256   Cond. No.                         257.\n",
            "==============================================================================\n",
            "\n",
            "Notes:\n",
            "[1] R² is computed without centering (uncentered) since the model does not contain a constant.\n",
            "[2] Standard Errors assume that the covariance matrix of the errors is correctly specified.\n"
          ]
        },
        {
          "output_type": "stream",
          "name": "stderr",
          "text": [
            "/usr/local/lib/python3.10/dist-packages/statsmodels/base/model.py:130: ValueWarning: unknown kwargs ['entity']\n",
            "  warnings.warn(msg, ValueWarning)\n"
          ]
        }
      ]
    },
    {
      "cell_type": "code",
      "source": [
        "# Random effects model\n",
        "re_model = sm.GLS(endog=df['exp'], exog=df[['wks', 'occ', 'south', 'smsa', 'ms', 'fem', 'union', 'ed']], groups=df['id'])\n",
        "re_results = re_model.fit()\n",
        "print(re_results.summary())"
      ],
      "metadata": {
        "colab": {
          "base_uri": "https://localhost:8080/"
        },
        "id": "u5iB6EF6t-8a",
        "outputId": "a2525942-26b3-4e2e-c3ab-97725c774891"
      },
      "execution_count": 11,
      "outputs": [
        {
          "output_type": "stream",
          "name": "stdout",
          "text": [
            "                                 GLS Regression Results                                \n",
            "=======================================================================================\n",
            "Dep. Variable:                    exp   R-squared (uncentered):                   0.773\n",
            "Model:                            GLS   Adj. R-squared (uncentered):              0.773\n",
            "Method:                 Least Squares   F-statistic:                              1770.\n",
            "Date:                Mon, 11 Mar 2024   Prob (F-statistic):                        0.00\n",
            "Time:                        18:18:43   Log-Likelihood:                         -15822.\n",
            "No. Observations:                4165   AIC:                                  3.166e+04\n",
            "Df Residuals:                    4157   BIC:                                  3.171e+04\n",
            "Df Model:                           8                                                  \n",
            "Covariance Type:            nonrobust                                                  \n",
            "==============================================================================\n",
            "                 coef    std err          t      P>|t|      [0.025      0.975]\n",
            "------------------------------------------------------------------------------\n",
            "wks            0.3293      0.021     15.370      0.000       0.287       0.371\n",
            "occ            0.9373      0.422      2.223      0.026       0.111       1.764\n",
            "south         -0.8141      0.379     -2.149      0.032      -1.557      -0.071\n",
            "smsa           2.7567      0.368      7.500      0.000       2.036       3.477\n",
            "ms             8.5342      0.603     14.164      0.000       7.353       9.715\n",
            "fem            4.9424      0.738      6.696      0.000       3.495       6.389\n",
            "union          0.5886      0.387      1.522      0.128      -0.170       1.347\n",
            "ed            -0.4326      0.064     -6.772      0.000      -0.558      -0.307\n",
            "==============================================================================\n",
            "Omnibus:                      356.230   Durbin-Watson:                   0.342\n",
            "Prob(Omnibus):                  0.000   Jarque-Bera (JB):              188.420\n",
            "Skew:                           0.365   Prob(JB):                     1.22e-41\n",
            "Kurtosis:                       2.256   Cond. No.                         257.\n",
            "==============================================================================\n",
            "\n",
            "Notes:\n",
            "[1] R² is computed without centering (uncentered) since the model does not contain a constant.\n",
            "[2] Standard Errors assume that the covariance matrix of the errors is correctly specified.\n"
          ]
        },
        {
          "output_type": "stream",
          "name": "stderr",
          "text": [
            "/usr/local/lib/python3.10/dist-packages/statsmodels/base/model.py:130: ValueWarning: unknown kwargs ['groups']\n",
            "  warnings.warn(msg, ValueWarning)\n"
          ]
        }
      ]
    },
    {
      "cell_type": "code",
      "source": [
        "# Hausman test for FE vs RE\n",
        "hausman = sm.stats.anova_lm(fe_results, re_results)\n",
        "print(hausman)"
      ],
      "metadata": {
        "colab": {
          "base_uri": "https://localhost:8080/"
        },
        "id": "0qx8A7Stt-rS",
        "outputId": "31d1ae90-9ee9-48bb-e409-afbab301a52c"
      },
      "execution_count": 12,
      "outputs": [
        {
          "output_type": "stream",
          "name": "stdout",
          "text": [
            "   df_resid            ssr  df_diff  ss_diff   F  Pr(>F)\n",
            "0    4157.0  486155.932609      0.0      NaN NaN     NaN\n",
            "1    4157.0  486155.932609     -0.0     -0.0 NaN     NaN\n"
          ]
        }
      ]
    },
    {
      "cell_type": "code",
      "source": [
        "# Compare the models using AIC and BIC\n",
        "results = pd.DataFrame({'Model': ['Pooled OLS', 'Fixed Effects', 'Random Effects'],\n",
        "                        'AIC': [pooled_results.aic, fe_results.aic, re_results.aic],\n",
        "                        'BIC': [pooled_results.bic, fe_results.bic, re_results.bic]})\n",
        "results['ΔAIC'] = results['AIC'] - min(results['AIC'])\n",
        "results['AIC Weight'] = np.exp(-0.5 * results['ΔAIC']) / np.sum(np.exp(-0.5 * results['ΔAIC']))\n",
        "results = results.sort_values(by='AIC')\n",
        "\n",
        "print(results)"
      ],
      "metadata": {
        "colab": {
          "base_uri": "https://localhost:8080/"
        },
        "id": "-87burqVt-ng",
        "outputId": "6a4fde05-2fc7-49d1-a759-8c3465aa945e"
      },
      "execution_count": 13,
      "outputs": [
        {
          "output_type": "stream",
          "name": "stdout",
          "text": [
            "            Model           AIC           BIC          ΔAIC  AIC Weight\n",
            "0      Pooled OLS  31660.379734  31711.055506  0.000000e+00    0.333333\n",
            "1   Fixed Effects  31660.379734  31711.055506  0.000000e+00    0.333333\n",
            "2  Random Effects  31660.379734  31711.055506  7.275958e-12    0.333333\n"
          ]
        }
      ]
    },
    {
      "cell_type": "code",
      "source": [],
      "metadata": {
        "id": "IHS6aK46t-j2"
      },
      "execution_count": 13,
      "outputs": []
    },
    {
      "cell_type": "markdown",
      "source": [
        "*** Panel Data Analysis and Model Comparison Using Python ~ Entire Code ***"
      ],
      "metadata": {
        "id": "st4d8LStuKH8"
      }
    },
    {
      "cell_type": "code",
      "source": [
        "### Panel Data Analysis and Model Comparison Using Python ~ Entire Code\n",
        "\n",
        "### Import Necessary Libraries\n",
        "import pandas as pd\n",
        "import numpy as np\n",
        "import statsmodels.api as sm\n",
        "import matplotlib.pyplot as plt\n",
        "\n",
        "### Load dataset and examine first 5 rows\n",
        "url= (\"https://raw.githubusercontent.com/KenDaupsey/-Panel-Data-Analysis-and-Model-Comparison-Using-Python-/main/PanelDataWages1.csv\")\n",
        "df= pd.read_csv(url)\n",
        "df.head()\n",
        "\n",
        "df.columns\n",
        "\n",
        "df.info()\n",
        "\n",
        "# View summary statistics\n",
        "print(df.describe())\n",
        "\n",
        "# Create pooled OLS model\n",
        "pooled_model = sm.OLS(endog=df['exp'], exog=df[['wks', 'occ', 'south', 'smsa', 'ms', 'fem', 'union', 'ed']])\n",
        "pooled_results = pooled_model.fit()\n",
        "print(pooled_results.summary())\n",
        "\n",
        "# Plot wage over time\n",
        "plt.figure()\n",
        "df.groupby(['id','t'])['exp'].mean().unstack().plot()\n",
        "plt.ylabel('Average Hourly Wage')\n",
        "\n",
        "# Fixed effects model controlling for entity (id)\n",
        "fe_model = sm.OLS(endog=df['exp'], exog=df[['wks', 'occ', 'south', 'smsa', 'ms', 'fem', 'union', 'ed']], entity=df['id'])\n",
        "fe_results = fe_model.fit()\n",
        "print(fe_results.summary())\n",
        "\n",
        "# Random effects model\n",
        "re_model = sm.GLS(endog=df['exp'], exog=df[['wks', 'occ', 'south', 'smsa', 'ms', 'fem', 'union', 'ed']], groups=df['id'])\n",
        "re_results = re_model.fit()\n",
        "print(re_results.summary())\n",
        "\n",
        "# Hausman test for FE vs RE\n",
        "hausman = sm.stats.anova_lm(fe_results, re_results)\n",
        "print(hausman)\n",
        "\n",
        "# Compare the models using AIC and BIC\n",
        "results = pd.DataFrame({'Model': ['Pooled OLS', 'Fixed Effects', 'Random Effects'],\n",
        "                        'AIC': [pooled_results.aic, fe_results.aic, re_results.aic],\n",
        "                        'BIC': [pooled_results.bic, fe_results.bic, re_results.bic]})\n",
        "results['ΔAIC'] = results['AIC'] - min(results['AIC'])\n",
        "results['AIC Weight'] = np.exp(-0.5 * results['ΔAIC']) / np.sum(np.exp(-0.5 * results['ΔAIC']))\n",
        "results = results.sort_values(by='AIC')\n",
        "\n",
        "print(results)"
      ],
      "metadata": {
        "id": "tUmsUWY7uQRB"
      },
      "execution_count": null,
      "outputs": []
    }
  ]
}